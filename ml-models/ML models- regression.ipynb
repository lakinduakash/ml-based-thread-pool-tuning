{
 "cells": [
  {
   "cell_type": "code",
   "execution_count": 3,
   "metadata": {},
   "outputs": [],
   "source": [
    "from sklearn.model_selection import ShuffleSplit\n",
    "from sklearn.model_selection import cross_validate\n",
    "import numpy as np\n",
    "\n",
    "def cross_validation_c(model,X,Y):\n",
    "\n",
    "  cv = ShuffleSplit(n_splits=5, test_size=0.3, random_state=1)\n",
    "  scores = cross_validate(model, X, Y, cv=cv , scoring=['f1_macro','f1_weighted','accuracy'])\n",
    "\n",
    "\n",
    "  cv_f1=scores['test_f1_macro']\n",
    "  cv_acc=scores['test_accuracy']\n",
    "  cv_f1_wg=scores['test_f1_weighted']\n",
    "\n",
    "  print(\"accuracy: %0.2f%% with a standard deviation of %0.2f\" % (abs(cv_acc.mean()*100), cv_acc.std()))\n",
    "  print(\"f1_macro score: %0.2f%% with a standard deviation of %0.2f\" % (abs(cv_f1.mean()*100), cv_f1.std()))\n",
    "  print(\"f1_weighted score: %0.2f%%  with a standard deviation of %0.2f\" % (abs(cv_f1_wg.mean()*100), cv_f1_wg.std()))\n",
    "  \n",
    "def cross_validation_r(model,X,Y):\n",
    "\n",
    "  cv = ShuffleSplit(n_splits=5, test_size=0.3, random_state=1)\n",
    "  \n",
    "  scores = cross_validate(model, X, Y, cv=cv , scoring=['neg_mean_squared_error','neg_mean_absolute_percentage_error','neg_mean_absolute_error'])\n",
    "\n",
    "\n",
    "  cv_mape=scores['test_neg_mean_absolute_percentage_error']\n",
    "  cv_mse=scores['test_neg_mean_squared_error']\n",
    "  cv_mae=scores['test_neg_mean_absolute_error']\n",
    "  \n",
    "  print(\"MAPEs: \",cv_mape)\n",
    "  print(\"MSEs: \",cv_mse)\n",
    "  print(\"MAEs: \",cv_mae)\n",
    "\n",
    "  print(\"MAPE: %0.2f%% with a standard deviation of %0.2f\" % (abs(cv_mape.mean()*100), cv_mape.std()))\n",
    "  print(\"MSE: %0.2f  with a standard deviation of %0.2f\" % (abs(cv_mse.mean()), cv_mse.std()))\n",
    "  print(\"MAE: %0.2f  with a standard deviation of %0.2f\" % (abs(cv_mae.mean()), cv_mae.std()))\n",
    "  \n",
    "\n",
    "from sklearn.metrics import confusion_matrix\n",
    "from sklearn.metrics import classification_report\n",
    "def print_classification_report(y_test,predictions):\n",
    "  \n",
    "  cf=confusion_matrix(y_test, predictions)\n",
    "  print(cf)\n",
    "  cr=classification_report(y_test, predictions,labels=[0,1,2,3,4],zero_division=False)\n",
    "  print(cr)"
   ]
  },
  {
   "cell_type": "code",
   "execution_count": 4,
   "metadata": {},
   "outputs": [
    {
     "name": "stdout",
     "output_type": "stream",
     "text": [
      "# cross validated evaluations\n",
      "MAPEs:  [-0.07797594 -0.07149602 -0.10173089 -0.05988536 -0.11160545]\n",
      "MSEs:  [-1.72180348 -1.72707183 -2.03474367 -1.60556757 -2.07800019]\n",
      "MAEs:  [-0.96647956 -0.91709182 -1.03720678 -0.81627081 -1.03377533]\n",
      "MAPE: 8.45% with a standard deviation of 0.02\n",
      "MSE: 1.83  with a standard deviation of 0.19\n",
      "MAE: 0.95  with a standard deviation of 0.08\n",
      "None\n"
     ]
    }
   ],
   "source": [
    "from numpy import loadtxt\n",
    "from xgboost import XGBRegressor\n",
    "from sklearn.model_selection import train_test_split\n",
    "from sklearn.metrics import accuracy_score\n",
    "\n",
    "from sklearn.metrics import mean_absolute_percentage_error\n",
    "from sklearn.metrics import mean_squared_error\n",
    "\n",
    "# load data\n",
    "dataset = loadtxt('g_dataset_class_2.csv', delimiter=\",\")\n",
    "# split data into X and y\n",
    "X = dataset[:,0:6]\n",
    "Y = dataset[:,6]\n",
    "# split data into train and test sets\n",
    "seed = 6\n",
    "test_size = 0.3\n",
    "\n",
    "X_train, X_test, y_train, y_test = train_test_split(X, Y, test_size=test_size, random_state=seed)\n",
    "# fit model no training data\n",
    "model = XGBRegressor()\n",
    "\n",
    "model.fit(X_train, y_train)\n",
    "# make predictions for test data\n",
    "y_pred = model.predict(X_test)\n",
    "predictions = [round(value) for value in y_pred]\n",
    "\n",
    "# evaluate predictions\n",
    "\n",
    "\n",
    "# Cross validation\n",
    "print(\"# cross validated evaluations\")\n",
    "print(cross_validation_r(model,X,Y))"
   ]
  },
  {
   "cell_type": "code",
   "execution_count": 5,
   "metadata": {},
   "outputs": [
    {
     "name": "stdout",
     "output_type": "stream",
     "text": [
      "[[1. 0. 0. 0. 0. 0.]\n",
      " [0. 0. 2. 0. 0. 0.]\n",
      " [1. 0. 2. 0. 0. 0.]\n",
      " [1. 0. 0. 0. 1. 0.]]\n",
      "[ 7.008057  13.994322  14.005598   5.1780515]\n"
     ]
    }
   ],
   "source": [
    "t = np.array([X[1],X[8],X[22],X[46]])\n",
    "print(t)\n",
    "y_pred = model.predict(t)\n",
    "print(y_pred)"
   ]
  },
  {
   "cell_type": "code",
   "execution_count": 6,
   "metadata": {},
   "outputs": [
    {
     "name": "stdout",
     "output_type": "stream",
     "text": [
      "# cross validated evaluations\n",
      "MAPEs:  [-0.07101795 -0.06696429 -0.11893939 -0.06712662 -0.0799513 ]\n",
      "MSEs:  [-1.81818182 -2.13636364 -2.81818182 -1.95454545 -1.81818182]\n",
      "MAEs:  [-0.81818182 -0.86363636 -1.09090909 -0.86363636 -0.81818182]\n",
      "MAPE: 8.08% with a standard deviation of 0.02\n",
      "MSE: 2.11  with a standard deviation of 0.37\n",
      "MAE: 0.89  with a standard deviation of 0.10\n"
     ]
    }
   ],
   "source": [
    "from sklearn import tree\n",
    "\n",
    "from numpy import loadtxt\n",
    "from sklearn.model_selection import train_test_split\n",
    "from sklearn.metrics import accuracy_score\n",
    "\n",
    "from sklearn.metrics import mean_absolute_percentage_error\n",
    "from sklearn.metrics import mean_absolute_error\n",
    "from sklearn.model_selection import cross_val_score\n",
    "from sklearn.model_selection import cross_validate\n",
    "\n",
    "\n",
    "# load data\n",
    "dataset = loadtxt('g_dataset_class_2.csv', delimiter=\",\")\n",
    "# split data into X and y\n",
    "X = dataset[:,0:6]\n",
    "Y = dataset[:,6]\n",
    "\n",
    "# split data into train and test sets\n",
    "seed = 6\n",
    "test_size = 0.3\n",
    "\n",
    "X_train, X_test, y_train, y_test = train_test_split(X, Y, test_size=test_size, random_state=seed)\n",
    "\n",
    "\n",
    "# fit model no training data\n",
    "model = tree.DecisionTreeRegressor()\n",
    "\n",
    "model.fit(X_train, y_train)\n",
    "\n",
    "\n",
    "# make predictions for test data\n",
    "y_pred = model.predict(X_test)\n",
    "predictions = [round(value) for value in y_pred]\n",
    "\n",
    "\n",
    "#cross validation\n",
    "print(\"# cross validated evaluations\")\n",
    "cross_validation_r(model,X,Y)"
   ]
  },
  {
   "cell_type": "code",
   "execution_count": 42,
   "metadata": {},
   "outputs": [
    {
     "name": "stdout",
     "output_type": "stream",
     "text": [
      "[[1. 0. 0. 0. 0. 0.]\n",
      " [0. 0. 2. 0. 0. 0.]\n",
      " [1. 0. 2. 0. 0. 0.]\n",
      " [1. 0. 0. 0. 1. 0.]]\n",
      "[ 7. 14. 14.  5.]\n"
     ]
    }
   ],
   "source": [
    "t = np.array([X[1],X[8],X[22],X[46]])\n",
    "print(t)\n",
    "y_pred = model.predict(t)\n",
    "print(y_pred)"
   ]
  },
  {
   "cell_type": "code",
   "execution_count": 7,
   "metadata": {},
   "outputs": [
    {
     "name": "stdout",
     "output_type": "stream",
     "text": [
      "Accuracy: 40.91%\n",
      "MAE: 0.82\n",
      "MAPE: 8.99%\n",
      "MSE: 1.45\n",
      "# cross validated evaluations\n",
      "MAPEs:  [-0.07817037 -0.06497971 -0.10115395 -0.05006953 -0.09467803]\n",
      "MSEs:  [-1.38836364 -1.15536818 -1.57728636 -0.96571364 -1.37273182]\n",
      "MAEs:  [-0.93727273 -0.83954545 -0.93681818 -0.69409091 -0.94318182]\n",
      "MAPE: 7.78% with a standard deviation of 0.02\n",
      "MSE: 1.29  with a standard deviation of 0.21\n",
      "MAE: 0.87  with a standard deviation of 0.10\n"
     ]
    }
   ],
   "source": [
    "from sklearn import ensemble\n",
    "\n",
    "from numpy import loadtxt\n",
    "from sklearn.model_selection import train_test_split\n",
    "from sklearn.metrics import accuracy_score\n",
    "from sklearn.metrics import f1_score\n",
    "\n",
    "from sklearn.metrics import mean_absolute_percentage_error\n",
    "from sklearn.metrics import mean_absolute_error\n",
    "from sklearn.model_selection import cross_val_score\n",
    "from sklearn.model_selection import cross_validate\n",
    "\n",
    "\n",
    "# load data\n",
    "dataset = loadtxt('g_dataset_class_2.csv', delimiter=\",\")\n",
    "# split data into X and y\n",
    "X = dataset[:,0:6]\n",
    "Y = dataset[:,6]\n",
    "\n",
    "# split data into train and test sets\n",
    "seed = 6\n",
    "test_size = 0.3\n",
    "\n",
    "X_train, X_test, y_train, y_test = train_test_split(X, Y, test_size=test_size, random_state=seed)\n",
    "\n",
    "\n",
    "# fit model no training data\n",
    "model = ensemble.RandomForestRegressor()\n",
    "\n",
    "model.fit(X_train, y_train)\n",
    "\n",
    "\n",
    "# make predictions for test data\n",
    "y_pred = model.predict(X_test)\n",
    "predictions = [round(value) for value in y_pred]\n",
    "\n",
    "# evaluate predictions\n",
    "\n",
    "accuracy = accuracy_score(y_test, predictions)\n",
    "print(\"Accuracy: %.2f%%\" % (accuracy * 100.0))\n",
    "\n",
    "\n",
    "mape=mean_absolute_percentage_error(y_test, predictions)\n",
    "mse=mean_squared_error(y_test, predictions)\n",
    "mae= mean_absolute_error(y_test, predictions)\n",
    "\n",
    "\n",
    "print(\"MAE: %.2f\" % mae)\n",
    "print(\"MAPE: %.2f%%\" % (mape * 100.0))\n",
    "print(\"MSE: %.2f\" % mse)\n",
    "\n",
    "\n",
    "#cross validation\n",
    "print(\"# cross validated evaluations\")\n",
    "cross_validation_r(model,X,Y)"
   ]
  },
  {
   "cell_type": "code",
   "execution_count": 44,
   "metadata": {},
   "outputs": [
    {
     "name": "stdout",
     "output_type": "stream",
     "text": [
      "[[1. 0. 0. 0. 0. 0.]\n",
      " [0. 0. 2. 0. 0. 0.]\n",
      " [1. 0. 2. 0. 0. 0.]\n",
      " [1. 0. 0. 0. 1. 0.]]\n",
      "[ 7.15 14.08 14.26  5.65]\n"
     ]
    }
   ],
   "source": [
    "t = np.array([X[1],X[8],X[22],X[46]])\n",
    "print(t)\n",
    "y_pred = model.predict(t)\n",
    "print(y_pred)"
   ]
  },
  {
   "cell_type": "code",
   "execution_count": 8,
   "metadata": {},
   "outputs": [
    {
     "name": "stdout",
     "output_type": "stream",
     "text": [
      "# cross validated evaluations\n",
      "MAPEs:  [-0.33764974 -0.16850919 -0.32441382 -0.25271444 -0.47578039]\n",
      "MSEs:  [-11.55139364  -5.66306863 -11.93452823  -7.49456191 -16.85528009]\n",
      "MAEs:  [-2.58581311 -1.78700679 -3.00866345 -1.97247099 -2.87743986]\n",
      "MAPE: 31.18% with a standard deviation of 0.10\n",
      "MSE: 10.70  with a standard deviation of 3.89\n",
      "MAE: 2.45  with a standard deviation of 0.49\n"
     ]
    }
   ],
   "source": [
    "from sklearn import svm\n",
    "\n",
    "from numpy import loadtxt\n",
    "from sklearn.model_selection import train_test_split\n",
    "from sklearn.metrics import accuracy_score\n",
    "from sklearn.metrics import f1_score\n",
    "\n",
    "from sklearn.metrics import mean_absolute_percentage_error\n",
    "\n",
    "# load data\n",
    "dataset = loadtxt('g_dataset_class_2.csv', delimiter=\",\")\n",
    "# split data into X and y\n",
    "X = dataset[:,0:6]\n",
    "Y = dataset[:,6]\n",
    "# split data into train and test sets\n",
    "seed = 6\n",
    "test_size = 0.3\n",
    "\n",
    "X_train, X_test, y_train, y_test = train_test_split(X, Y, test_size=test_size, random_state=seed)\n",
    "# fit model no training data\n",
    "model = svm.SVR()\n",
    "\n",
    "model.fit(X_train, y_train)\n",
    "# make predictions for test data\n",
    "y_pred = model.predict(X_test)\n",
    "predictions = [round(value) for value in y_pred]\n",
    "\n",
    "# evaluate predictions\n",
    "\n",
    "\n",
    "print(\"# cross validated evaluations\")\n",
    "cross_validation_r(model,X,Y)"
   ]
  },
  {
   "cell_type": "code",
   "execution_count": 46,
   "metadata": {},
   "outputs": [
    {
     "name": "stdout",
     "output_type": "stream",
     "text": [
      "[[1. 0. 0. 0. 0. 0.]\n",
      " [0. 0. 2. 0. 0. 0.]\n",
      " [1. 0. 2. 0. 0. 0.]\n",
      " [1. 0. 0. 0. 1. 0.]]\n",
      "[11.49235418 14.09981268 14.38413356 11.21728727]\n"
     ]
    }
   ],
   "source": [
    "t = np.array([X[1],X[8],X[22],X[46]])\n",
    "print(t)\n",
    "y_pred = model.predict(t)\n",
    "print(y_pred)"
   ]
  }
 ],
 "metadata": {
  "kernelspec": {
   "display_name": "Python 3",
   "language": "python",
   "name": "python3"
  },
  "language_info": {
   "codemirror_mode": {
    "name": "ipython",
    "version": 3
   },
   "file_extension": ".py",
   "mimetype": "text/x-python",
   "name": "python",
   "nbconvert_exporter": "python",
   "pygments_lexer": "ipython3",
   "version": "3.8.3"
  }
 },
 "nbformat": 4,
 "nbformat_minor": 4
}
